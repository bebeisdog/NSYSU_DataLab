{
 "cells": [
  {
   "cell_type": "code",
   "execution_count": 1,
   "metadata": {},
   "outputs": [],
   "source": [
    "import numpy as np\n",
    "test = np.array([[ 0, 0.1, 0.2, 1,  -1],\n",
    "                [ 0, 0,   0,   0.1, 1],\n",
    "                [ 0, 0,  -5,   0,   2]])"
   ]
  },
  {
   "cell_type": "code",
   "execution_count": 2,
   "metadata": {},
   "outputs": [
    {
     "name": "stdout",
     "output_type": "stream",
     "text": [
      "第 0 列，第 1 行，出現非零數, 前面有 1 個 0\n",
      "第 1 列，第 3 行，出現非零數, 前面有 3 個 0\n",
      "第 2 列，第 2 行，出現非零數, 前面有 2 個 0\n"
     ]
    }
   ],
   "source": [
    "# test = {'B1':{'1': 0}} ， test['B1']['1']\n",
    "temp = []\n",
    "for i in range(test.shape[0]): # 行\n",
    "    count = 0\n",
    "    for j in range(test.shape[1]): # 列\n",
    "        if test[i, j] != 0: # 找出誰最先出現非零數\n",
    "            break\n",
    "        count += 1 \n",
    "    print('第 {} 列，第 {} 行，出現非零數, 前面有 {} 個 0'.format(i, j, count))\n",
    "    temp.append((i, j, count))"
   ]
  },
  {
   "cell_type": "code",
   "execution_count": 3,
   "metadata": {},
   "outputs": [
    {
     "name": "stdout",
     "output_type": "stream",
     "text": [
      "[0, 2, 1]\n"
     ]
    }
   ],
   "source": [
    "answer = []\n",
    "final = sorted(temp, key = lambda x: x[1])\n",
    "for i in range(len(final)):\n",
    "    answer.append(final[i][0])\n",
    "print(answer)"
   ]
  },
  {
   "cell_type": "code",
   "execution_count": 4,
   "metadata": {},
   "outputs": [],
   "source": [
    "calculate = {'B1': {}, 'B2': {}, 'B3': {}, 'B4': {}, 'B5': {}}\n",
    "for i in range(len(temp)):\n",
    "    calculate['B1']['{}'.format(i)] = temp[i][-1]"
   ]
  },
  {
   "cell_type": "code",
   "execution_count": 32,
   "metadata": {},
   "outputs": [
    {
     "name": "stdout",
     "output_type": "stream",
     "text": [
      "{'B1': {'0': 1, '1': 3, '2': 2}}\n"
     ]
    }
   ],
   "source": [
    "calculate = {}\n",
    "for i in range(1):\n",
    "    test2 = {}\n",
    "    for j in range(len(temp)):\n",
    "        test2['{}'.format(j)] = temp[j][-1]\n",
    "    calculate['B{}'.format(i+1)] = test2\n",
    "    \n",
    "print(calculate)"
   ]
  },
  {
   "cell_type": "code",
   "execution_count": 41,
   "metadata": {},
   "outputs": [
    {
     "name": "stdout",
     "output_type": "stream",
     "text": [
      "Enter the number of rows:3\n",
      "Enter the number of columns:5\n",
      "Enter the entries in a single line (separated by space): \n",
      "0 0.1 0.2 1 -1 0 0 0 0.1 1 0 0 -5 0 2\n",
      "你輸入的矩陣\n",
      "[[ 0.   0.1  0.2  1.  -1. ]\n",
      " [ 0.   0.   0.   0.1  1. ]\n",
      " [ 0.   0.  -5.   0.   2. ]]\n"
     ]
    }
   ],
   "source": [
    "## 手動輸入\n",
    "\n",
    "import numpy as np\n",
    "  \n",
    "row = int(input(\"輸入矩陣的列:\"))\n",
    "column = int(input(\"輸入矩陣的行:\"))\n",
    "print(\"Enter the entries in a single line (separated by space): \")\n",
    "\n",
    "entries = list(map(float, input().split()))\n",
    "matrix = np.array(entries).reshape(row, column)\n",
    "print('你輸入的矩陣')\n",
    "print(matrix)"
   ]
  },
  {
   "cell_type": "code",
   "execution_count": 42,
   "metadata": {},
   "outputs": [
    {
     "name": "stdout",
     "output_type": "stream",
     "text": [
      "1\n",
      "2\n",
      "3\n",
      "4\n",
      "5\n"
     ]
    }
   ],
   "source": []
  },
  {
   "cell_type": "code",
   "execution_count": 2,
   "metadata": {},
   "outputs": [
    {
     "name": "stdout",
     "output_type": "stream",
     "text": [
      "可輸入五個矩陣:\n",
      "輸入矩陣有幾列:3\n",
      "輸入矩陣有幾行:5\n",
      "Enter the entries in a single line (separated by space): \n",
      " 0 0.1 0.2 1 -1 0 0 0 0.1 1 0 0 -5 0 2\n",
      "你輸入的矩陣\n",
      "[[ 0.   0.1  0.2  1.  -1. ]\n",
      " [ 0.   0.   0.   0.1  1. ]\n",
      " [ 0.   0.  -5.   0.   2. ]]\n",
      "第 0 列，第 1 行，出現非零數, 前面有 1 個 0\n",
      "第 1 列，第 3 行，出現非零數, 前面有 3 個 0\n",
      "第 2 列，第 2 行，出現非零數, 前面有 2 個 0\n",
      "[0 2 1]\n",
      "總花費時間 1.0110535621643066\n",
      "{'B0': {'0': 1, '1': 3, '2': 2}}\n"
     ]
    }
   ],
   "source": [
    "# import numpy as np\n",
    "import cupy as np\n",
    "import time\n",
    "def input_matrix():\n",
    "    '''\n",
    "    轉換成矩陣形式\n",
    "    '''\n",
    "    row = int(input(\"輸入矩陣有幾列:\"))\n",
    "    column = int(input(\"輸入矩陣有幾行:\"))\n",
    "    print(\"Enter the entries in a single line (separated by space): \")\n",
    "\n",
    "    entries = list(map(float, input().split()))\n",
    "    matrix = np.array(entries).reshape(row, column)\n",
    "    print('你輸入的矩陣')\n",
    "    print(matrix)\n",
    "    return matrix\n",
    "\n",
    "def rank(matrix):\n",
    "    temp = []\n",
    "    for i in range(matrix.shape[0]): # 行\n",
    "        count = 0\n",
    "        for j in range(matrix.shape[1]): # 列\n",
    "            if matrix[i, j] != 0: # 找出誰最先出現非零數\n",
    "                break\n",
    "            count += 1 \n",
    "        print('第 {} 列，第 {} 行，出現非零數, 前面有 {} 個 0'.format(i, j, count))\n",
    "        temp.append((i, j, count))\n",
    "\n",
    "    answer = []\n",
    "    final = sorted(temp, key = lambda x: x[1])\n",
    "    for i in range(len(final)):\n",
    "        answer.append(final[i][0])\n",
    "    # print(answer)\n",
    "    return np.array(answer), temp\n",
    "\n",
    "if __name__ == '__main__':\n",
    "    calculate = {}\n",
    "    print('可輸入五個矩陣:')\n",
    "\n",
    "    for i in range(1):\n",
    "        matrix = input_matrix()\n",
    "        start = time.time()\n",
    "        answer, temp = rank(matrix)\n",
    "        print(answer)\n",
    "\n",
    "        test2 = {}\n",
    "        for j in range(len(temp)):\n",
    "            test2['{}'.format(j)] = temp[j][-1]\n",
    "        calculate['B{}'.format(i)] = test2\n",
    "    time.sleep(1)\n",
    "    end = time.time()\n",
    "    print('總花費時間 {}'.format(end-start))\n",
    "    print(calculate)\n"
   ]
  },
  {
   "cell_type": "code",
   "execution_count": 1,
   "metadata": {},
   "outputs": [
    {
     "data": {
      "text/plain": [
       "True"
      ]
     },
     "execution_count": 1,
     "metadata": {},
     "output_type": "execute_result"
    }
   ],
   "source": [
    "import torch\n",
    "torch.cuda.is_available()"
   ]
  },
  {
   "cell_type": "code",
   "execution_count": 2,
   "metadata": {},
   "outputs": [
    {
     "name": "stdout",
     "output_type": "stream",
     "text": [
      "10.1\n"
     ]
    }
   ],
   "source": [
    "print(torch.version.cuda)"
   ]
  },
  {
   "cell_type": "code",
   "execution_count": null,
   "metadata": {},
   "outputs": [],
   "source": []
  }
 ],
 "metadata": {
  "kernelspec": {
   "display_name": "Python 3",
   "language": "python",
   "name": "python3"
  },
  "language_info": {
   "codemirror_mode": {
    "name": "ipython",
    "version": 3
   },
   "file_extension": ".py",
   "mimetype": "text/x-python",
   "name": "python",
   "nbconvert_exporter": "python",
   "pygments_lexer": "ipython3",
   "version": "3.7.3"
  }
 },
 "nbformat": 4,
 "nbformat_minor": 4
}
